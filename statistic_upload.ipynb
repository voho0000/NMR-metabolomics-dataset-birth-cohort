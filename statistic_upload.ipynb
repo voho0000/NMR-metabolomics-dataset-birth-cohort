{
 "cells": [
  {
   "cell_type": "code",
   "execution_count": 3,
   "metadata": {},
   "outputs": [
    {
     "name": "stdout",
     "output_type": "stream",
     "text": [
      "BBW (kg): 3.06 ± 0.48\n",
      "BBL (m): 0.50 ± 0.03\n",
      "Birth BMI(kg/m2): 12.49 ± 2.08\n",
      "BBW(%): 37.03 ± 25.15\n",
      "BBL(%): 58.25 ± 31.35\n",
      "BMI(%): 26.60 ± 24.16\n",
      "BBW(Z): -0.56 ± 1.14\n",
      "BBL(Z): 0.00 ± 1.88\n",
      "BMI(Z): -0.87 ± 1.50\n",
      "1M-Weight(kg): 4.63 ± 0.85\n",
      "1M-Height(cm): 54.54 ± 3.16\n",
      "1M-BMI: 15.47 ± 1.73\n",
      "1M-Weight(%): 50.07 ± 29.96\n",
      "1M-Height(%): 42.54 ± 31.99\n",
      "1M-BMI(%): 55.94 ± 31.03\n",
      "1M-Weight(Z): 0.05 ± 1.23\n",
      "1M-Height(Z): -0.22 ± 1.43\n",
      "1M-BMI(Z): 0.24 ± 1.18\n",
      "6M-Weight(kg): 7.94 ± 1.03\n",
      "6M-Height(cm): 67.66 ± 2.74\n",
      "BMI: 17.30 ± 1.53\n",
      "6M-Weight(%): 53.12 ± 30.48\n",
      "6M-Height(%): 52.49 ± 29.21\n",
      "6M-BMI(%): 52.41 ± 30.06\n",
      "6M-Weight(Z): 0.10 ± 1.04\n",
      "6M-Height(Z): 0.12 ± 1.10\n",
      "6M-BMI(Z): 0.06 ± 1.04\n",
      "1Y-Weight(kg): 9.47 ± 1.09\n",
      "1Y-Height(cm): 75.40 ± 2.76\n",
      "BMI.1: 16.63 ± 1.35\n",
      "1Y-Weight(%): 51.15 ± 28.19\n",
      "1Y-Height(%): 53.39 ± 29.97\n",
      "1Y-BMI(%): 49.92 ± 28.66\n",
      "1Y-Weight(Z): 0.04 ± 0.93\n",
      "1Y-Height(Z): 0.09 ± 1.04\n",
      "1Y-BMI(Z): -0.02 ± 0.96\n",
      "3Y-Weight(kg): 15.43 ± 2.30\n",
      "3Y-Height(cm): 97.08 ± 5.24\n",
      "3Y-BMI: 16.42 ± 2.00\n",
      "3Y-Weight(%): 56.87 ± 29.25\n",
      "3Y-Height(%): 45.86 ± 30.85\n",
      "3Y-BMI(%): 64.17 ± 29.94\n",
      "3Y-Weight(Z): 0.30 ± 1.11\n",
      "3Y-Height(Z): -0.20 ± 1.22\n",
      "3Y-BMI(Z): 0.62 ± 1.34\n",
      "5Y-Weight(kg): 18.94 ± 3.35\n",
      "5Y-Height(cm): 107.92 ± 9.31\n",
      ".5Y-BMI: 20.96 ± 55.87\n",
      "5YWeight(%): 51.80 ± 31.54\n",
      "5Y-Height(%): 43.27 ± 29.72\n",
      "5Y-BMI(%): 57.82 ± 29.91\n",
      "5Y-Weight(Z): 0.15 ± 1.19\n",
      "5Y-Height(Z): -0.36 ± 2.04\n",
      "5Y-BMI(Z): 0.51 ± 1.79\n"
     ]
    }
   ],
   "source": [
    "import pandas as pd\n",
    "import os\n",
    "\n",
    "df = pd.read_csv(\"upload_csv/BW_BH_BMI_Birth-5Y.csv\")\n",
    "\n",
    "# Assuming the DataFrame is named bmi\n",
    "columns_to_calculate = ['BBW (kg)', 'BBL (m)', 'Birth BMI(kg/m2)', 'BBW(%)', 'BBL(%)',\n",
    "       'BMI(%)', 'BBW(Z)', 'BBL(Z)', 'BMI(Z)', '1M-Weight(kg)',\n",
    "       '1M-Height(cm)', '1M-BMI', '1M-Weight(%)', '1M-Height(%)', '1M-BMI(%)',\n",
    "       '1M-Weight(Z)', '1M-Height(Z)', '1M-BMI(Z)', '6M-Weight(kg)',\n",
    "       '6M-Height(cm)', 'BMI', '6M-Weight(%)', '6M-Height(%)', '6M-BMI(%)',\n",
    "       '6M-Weight(Z)', '6M-Height(Z)', '6M-BMI(Z)', '1Y-Weight(kg)',\n",
    "       '1Y-Height(cm)', 'BMI.1', '1Y-Weight(%)', '1Y-Height(%)', '1Y-BMI(%)',\n",
    "       '1Y-Weight(Z)', '1Y-Height(Z)', '1Y-BMI(Z)', '3Y-Weight(kg)',\n",
    "       '3Y-Height(cm)', '3Y-BMI', '3Y-Weight(%)', '3Y-Height(%)', '3Y-BMI(%)',\n",
    "       '3Y-Weight(Z)', '3Y-Height(Z)', '3Y-BMI(Z)', '5Y-Weight(kg)',\n",
    "       '5Y-Height(cm)', '.5Y-BMI', '5YWeight(%)', '5Y-Height(%)', '5Y-BMI(%)',\n",
    "       '5Y-Weight(Z)', '5Y-Height(Z)', '5Y-BMI(Z)']\n",
    "\n",
    "# Convert columns to float if they are strings\n",
    "for column in columns_to_calculate:\n",
    "    if column in df.columns:\n",
    "        df[column] = pd.to_numeric(df[column], errors='coerce')\n",
    "\n",
    "for column in columns_to_calculate:\n",
    "    if column in df.columns:\n",
    "        mean = df[column].mean()\n",
    "        std = df[column].std()\n",
    "        print(f\"{column}: {mean:.2f} ± {std:.2f}\")"
   ]
  },
  {
   "cell_type": "code",
   "execution_count": null,
   "metadata": {},
   "outputs": [
    {
     "name": "stdout",
     "output_type": "stream",
     "text": [
      "6M-IgE: 33.9 ± 56.4, min: 2.0, max: 352.0\n",
      "1Y-IgE: 85.8 ± 126.0, min: 3.0, max: 675.0\n",
      "3Y-IgE: 136.7 ± 222.0, min: 3.7, max: 1363.0\n",
      "5Y-IgE: 204.9 ± 366.7, min: 3.7, max: 1932.0\n"
     ]
    },
    {
     "data": {
      "text/plain": [
       "Index(['Num', '6M-IgE', '1Y-IgE', '3Y-IgE', '5Y-IgE'], dtype='object')"
      ]
     },
     "execution_count": 7,
     "metadata": {},
     "output_type": "execute_result"
    }
   ],
   "source": [
    "import pandas as pd\n",
    "ige = pd.read_csv(\"upload_csv/Total_IgE_6M-5Y.csv\")\n",
    "ige_columns_to_calculate = ['6M-IgE', '1Y-IgE', '3Y-IgE', '5Y-IgE']\n",
    "\n",
    "# Convert columns to float if they are strings\n",
    "for column in ige_columns_to_calculate:\n",
    "    if column in ige.columns:\n",
    "        ige[column] = pd.to_numeric(ige[column], errors='coerce')\n",
    "\n",
    "for column in ige_columns_to_calculate:\n",
    "    if column in ige.columns:\n",
    "        mean = ige[column].mean()\n",
    "        std = ige[column].std()\n",
    "        min_value = ige[column].min()\n",
    "        max_value = ige[column].max()\n",
    "        print(f\"{column}: {mean:.1f} ± {std:.1f}, min: {min_value:.1f}, max: {max_value:.1f}\")"
   ]
  },
  {
   "cell_type": "code",
   "execution_count": 11,
   "metadata": {},
   "outputs": [
    {
     "name": "stdout",
     "output_type": "stream",
     "text": [
      "6M-D. farinae: 0.0 ± 0.1, min: 0.0, max: 0.4\n",
      "1Y-D. farinae: 0.2 ± 0.9, min: 0.0, max: 9.3\n",
      "3Y-D. farinae: 4.1 ± 11.1, min: 0.0, max: 71.6\n",
      "5Y-D. farinae: 9.0 ± 18.4, min: 0.0, max: 86.0\n"
     ]
    }
   ],
   "source": [
    "import pandas as pd\n",
    "ige = pd.read_csv(\"upload_csv/D. farinae_IgE_6M-5Y.csv\")\n",
    "ige_columns_to_calculate = ['6M-D. farinae', '1Y-D. farinae', '3Y-D. farinae', '5Y-D. farinae']\n",
    "# Convert columns to float if they are strings\n",
    "for column in ige_columns_to_calculate:\n",
    "    if column in ige.columns:\n",
    "        ige[column] = pd.to_numeric(ige[column], errors='coerce')\n",
    "\n",
    "for column in ige_columns_to_calculate:\n",
    "    if column in ige.columns:\n",
    "        mean = ige[column].mean()\n",
    "        std = ige[column].std()\n",
    "        min_value = ige[column].min()\n",
    "        max_value = ige[column].max()\n",
    "        print(f\"{column}: {mean:.1f} ± {std:.1f}, min: {min_value:.1f}, max: {max_value:.1f}\")"
   ]
  },
  {
   "cell_type": "code",
   "execution_count": 17,
   "metadata": {},
   "outputs": [
    {
     "name": "stdout",
     "output_type": "stream",
     "text": [
      "6M-D. pteronyssinus : 0.2 ± 1.4, min: 0.0, max: 15.2\n",
      "1Y-D. pteronyssinus : 0.4 ± 2.0, min: 0.0, max: 20.3\n",
      "3Y-D. pteronyssinus : 9.9 ± 29.4, min: 0.0, max: 246.0\n",
      "5Y-D. pteronyssinus : 11.1 ± 22.4, min: 0.0, max: 99.3\n"
     ]
    }
   ],
   "source": [
    "import pandas as pd\n",
    "ige = pd.read_csv(\"upload_csv/D. pteronyssinus_IgE_6M-5Y.csv\")\n",
    "ige_columns_to_calculate = ['6M-D. pteronyssinus ', '1Y-D. pteronyssinus ','3Y-D. pteronyssinus ', '5Y-D. pteronyssinus ']\n",
    "# Convert columns to float if they are strings\n",
    "for column in ige_columns_to_calculate:\n",
    "    if column in ige.columns:\n",
    "        ige[column] = pd.to_numeric(ige[column], errors='coerce')\n",
    "\n",
    "for column in ige_columns_to_calculate:\n",
    "    if column in ige.columns:\n",
    "        mean = ige[column].mean()\n",
    "        std = ige[column].std()\n",
    "        min_value = ige[column].min()\n",
    "        max_value = ige[column].max()\n",
    "        print(f\"{column}: {mean:.1f} ± {std:.1f}, min: {min_value:.1f}, max: {max_value:.1f}\")"
   ]
  },
  {
   "cell_type": "code",
   "execution_count": 20,
   "metadata": {},
   "outputs": [
    {
     "name": "stdout",
     "output_type": "stream",
     "text": [
      "6M-eggwhite: 0.6 ± 3.3, min: 0.0, max: 31.0\n",
      "1Y-eggwhite: 0.4 ± 1.1, min: 0.0, max: 7.3\n",
      "3Y-eggwhite: 0.6 ± 0.9, min: 0.0, max: 5.8\n",
      "5Y-eggwhite: 0.4 ± 0.8, min: 0.0, max: 6.4\n"
     ]
    }
   ],
   "source": [
    "import pandas as pd\n",
    "ige = pd.read_csv(\"upload_csv/eggwhite_IgE_6M-5Y.csv\")\n",
    "ige_columns_to_calculate = ['6M-eggwhite', '1Y-eggwhite', '3Y-eggwhite', '5Y-eggwhite']\n",
    "# Convert columns to float if they are strings\n",
    "for column in ige_columns_to_calculate:\n",
    "    if column in ige.columns:\n",
    "        ige[column] = pd.to_numeric(ige[column], errors='coerce')\n",
    "\n",
    "for column in ige_columns_to_calculate:\n",
    "    if column in ige.columns:\n",
    "        mean = ige[column].mean()\n",
    "        std = ige[column].std()\n",
    "        min_value = ige[column].min()\n",
    "        max_value = ige[column].max()\n",
    "        print(f\"{column}: {mean:.1f} ± {std:.1f}, min: {min_value:.1f}, max: {max_value:.1f}\")"
   ]
  },
  {
   "cell_type": "code",
   "execution_count": 23,
   "metadata": {},
   "outputs": [
    {
     "name": "stdout",
     "output_type": "stream",
     "text": [
      "6M-milk: 0.2 ± 0.5, min: 0.0, max: 4.0\n",
      "1Y-milk: 0.6 ± 1.2, min: 0.0, max: 6.9\n",
      "3Y-milk: 0.5 ± 0.7, min: 0.0, max: 3.7\n",
      "5Y-milk: 0.3 ± 0.8, min: 0.0, max: 7.0\n"
     ]
    }
   ],
   "source": [
    "import pandas as pd\n",
    "ige = pd.read_csv(\"upload_csv/milk_IgE_6M-5Y.csv\")\n",
    "ige_columns_to_calculate = ['6M-milk', '1Y-milk', '3Y-milk', '5Y-milk']\n",
    "# Convert columns to float if they are strings\n",
    "for column in ige_columns_to_calculate:\n",
    "    if column in ige.columns:\n",
    "        ige[column] = pd.to_numeric(ige[column], errors='coerce')\n",
    "\n",
    "for column in ige_columns_to_calculate:\n",
    "    if column in ige.columns:\n",
    "        mean = ige[column].mean()\n",
    "        std = ige[column].std()\n",
    "        min_value = ige[column].min()\n",
    "        max_value = ige[column].max()\n",
    "        print(f\"{column}: {mean:.1f} ± {std:.1f}, min: {min_value:.1f}, max: {max_value:.1f}\")"
   ]
  },
  {
   "cell_type": "code",
   "execution_count": 26,
   "metadata": {},
   "outputs": [
    {
     "name": "stdout",
     "output_type": "stream",
     "text": [
      "Sex, male (%) 55.56% (0.5)\n",
      "Maternal age (yr) 30.65 (4.47)\n",
      "Gestational age (wk) 38.11 (1.89)\n",
      "Breast feeding: 68 (34.34%)\n",
      "Formula feeding: 61 (30.81%)\n",
      "Mixed feeding: 69 (34.85%)\n",
      "Household income:\n",
      "-Low, <500,000 NTD: 72 (35.47%)\n",
      "-Medium, 500,000–1,000,000 NTD: 88 (43.35%)\n",
      "-High, >1,000,000 NTD: 36 (17.73%)\n"
     ]
    }
   ],
   "source": [
    "import pandas as pd\n",
    "df = pd.read_csv(\"upload_csv/Demographic.csv\")\n",
    "\n",
    "# Sex\n",
    "# 0: female\n",
    "# 1: male\n",
    "\n",
    "# breast feeding\n",
    "# 0: all breast feeding 6M\n",
    "# 1: mixed breast milk and formula<,>6M\n",
    "# 2: all formula feeding >6M\n",
    "\n",
    "# House incone\n",
    "# 1: Low\n",
    "# 2: Medium\n",
    "# 3: High\n",
    "\n",
    "# Birth season \n",
    "# 1:Spring\n",
    "# 2:Summer\n",
    "# 3: Fall\n",
    "# 4: Winter\n",
    "\n",
    "import pandas as pd\n",
    "\n",
    "# Load the allergy DataFrame\n",
    "allergy = pd.read_csv(\"198-Allergy.csv\")\n",
    "\n",
    "# Ensure relevant columns are numeric\n",
    "allergy['Sex'] = pd.to_numeric(allergy['Sex'], errors='coerce')\n",
    "allergy['Maternal age'] = pd.to_numeric(allergy['Maternal age'], errors='coerce')\n",
    "allergy['GestationAge'] = pd.to_numeric(allergy['GestationAge\\n'], errors='coerce')\n",
    "allergy['Breastfeeding'] = pd.to_numeric(allergy['Breastfeeding'], errors='coerce')\n",
    "allergy['House income'] = pd.to_numeric(allergy['House income'], errors='coerce')\n",
    "\n",
    "# Calculate percentages and means\n",
    "sex_percentage = round(allergy['Sex'].mean() * 100, 2)\n",
    "maternal_age_mean = round(allergy['Maternal age'].mean(), 2)\n",
    "maternal_age_std = round(allergy['Maternal age'].std(), 2)\n",
    "gestational_age_mean = round(allergy['GestationAge'].mean(), 2)\n",
    "gestational_age_std = round(allergy['GestationAge'].std(), 2)\n",
    "\n",
    "# Feeding types\n",
    "breastfeeding_count = (allergy['Breastfeeding'] == 0).sum()  # Breast feeding\n",
    "formula_count = (allergy['Breastfeeding'] == 2).sum()        # Formula feeding\n",
    "mixed_feeding_count = (allergy['Breastfeeding'] == 1).sum()  # Mixed feeding\n",
    "\n",
    "# Calculate feeding ratios\n",
    "total_feeding_count = breastfeeding_count + formula_count + mixed_feeding_count\n",
    "breastfeeding_ratio = round(breastfeeding_count / total_feeding_count * 100, 2) if total_feeding_count > 0 else 0\n",
    "formula_ratio = round(formula_count / total_feeding_count * 100, 2) if total_feeding_count > 0 else 0\n",
    "mixed_feeding_ratio = round(mixed_feeding_count / total_feeding_count * 100, 2) if total_feeding_count > 0 else 0\n",
    "\n",
    "# Household income counts\n",
    "income_counts = allergy['House income'].value_counts().reindex([1, 2, 3]).fillna(0).astype(int)\n",
    "\n",
    "# Calculate household income ratios\n",
    "total_income_count = len(allergy)\n",
    "low_income_ratio = round(income_counts[1] / total_income_count * 100, 2) if total_income_count > 0 else 0\n",
    "medium_income_ratio = round(income_counts[2] / total_income_count * 100, 2) if total_income_count > 0 else 0\n",
    "high_income_ratio = round(income_counts[3] / total_income_count * 100, 2) if total_income_count > 0 else 0\n",
    "\n",
    "# Print results\n",
    "print(f\"Sex, male (%) {sex_percentage:.2f}% ({round(allergy['Sex'].std(), 2)})\")\n",
    "print(f\"Maternal age (yr) {maternal_age_mean:.2f} ({maternal_age_std})\")\n",
    "print(f\"Gestational age (wk) {gestational_age_mean:.2f} ({gestational_age_std})\")\n",
    "\n",
    "print(f\"Breast feeding: {breastfeeding_count} ({breastfeeding_ratio}%)\")\n",
    "print(f\"Formula feeding: {formula_count} ({formula_ratio}%)\")\n",
    "print(f\"Mixed feeding: {mixed_feeding_count} ({mixed_feeding_ratio}%)\")\n",
    "\n",
    "print(f\"Household income:\")\n",
    "print(f\"-Low, <500,000 NTD: {income_counts[1]} ({low_income_ratio:.2f}%)\")\n",
    "print(f\"-Medium, 500,000–1,000,000 NTD: {income_counts[2]} ({medium_income_ratio:.2f}%)\")\n",
    "print(f\"-High, >1,000,000 NTD: {income_counts[3]} ({high_income_ratio:.2f}%)\")"
   ]
  },
  {
   "cell_type": "code",
   "execution_count": 27,
   "metadata": {},
   "outputs": [
    {
     "name": "stdout",
     "output_type": "stream",
     "text": [
      "Maternal atopy: 85.0 (41.87%)\n",
      "Maternal asthma: 13.0 (6.40%)\n",
      "Maternal rhinitis: 73.0 (35.96%)\n",
      "Maternal eczema: 22.0 (10.84%)\n",
      "Paternal atopy: 107.0 (52.71%)\n",
      "Paternal asthma: 13.0 (6.40%)\n",
      "Paternal rhinitis: 94.0 (46.31%)\n",
      "Paternal eczema: 24.0 (11.82%)\n"
     ]
    }
   ],
   "source": [
    "import pandas as pd\n",
    "df = pd.read_csv(\"upload_csv/Family_atopy.csv\")\n",
    "\n",
    "# Ensure relevant columns are numeric\n",
    "allergy['Maternal atopy'] = pd.to_numeric(allergy['Maternal atopy'], errors='coerce')\n",
    "allergy['Maternal asthma'] = pd.to_numeric(allergy['Maternal asthma'], errors='coerce')\n",
    "allergy['Maternal rhinitis'] = pd.to_numeric(allergy['Maternal rhinitis'], errors='coerce')\n",
    "allergy['Maternal eczema'] = pd.to_numeric(allergy['Maternal eczema'], errors='coerce')\n",
    "allergy['Paternal atopy'] = pd.to_numeric(allergy['Father atopy'], errors='coerce')\n",
    "allergy['Paternal asthma'] = pd.to_numeric(allergy['Father asthma'], errors='coerce')\n",
    "allergy['Paternal rhinitis'] = pd.to_numeric(allergy['Father rhinitis'], errors='coerce')\n",
    "allergy['Paternal eczema'] = pd.to_numeric(allergy['Father eczema'], errors='coerce')\n",
    "\n",
    "# Atopy counts\n",
    "maternal_atopy_count = allergy['Maternal atopy'].sum()\n",
    "maternal_asthma_count = allergy['Maternal asthma'].sum()\n",
    "maternal_rhinitis_count = allergy['Maternal rhinitis'].sum()\n",
    "maternal_eczema_count = allergy['Maternal eczema'].sum()\n",
    "paternal_atopy_count = allergy['Paternal atopy'].sum()\n",
    "paternal_asthma_count = allergy['Paternal asthma'].sum()\n",
    "paternal_rhinitis_count = allergy['Paternal rhinitis'].sum()\n",
    "paternal_eczema_count = allergy['Paternal eczema'].sum()\n",
    "\n",
    "# Calculate atopy ratios\n",
    "total_atopy_count = len(allergy)  # Total number of individuals\n",
    "maternal_atopy_ratio = round(maternal_atopy_count / total_atopy_count * 100, 2) if total_atopy_count > 0 else 0\n",
    "maternal_asthma_ratio = round(maternal_asthma_count / total_atopy_count * 100, 2) if total_atopy_count > 0 else 0\n",
    "maternal_rhinitis_ratio = round(maternal_rhinitis_count / total_atopy_count * 100, 2) if total_atopy_count > 0 else 0\n",
    "maternal_eczema_ratio = round(maternal_eczema_count / total_atopy_count * 100, 2) if total_atopy_count > 0 else 0\n",
    "paternal_atopy_ratio = round(paternal_atopy_count / total_atopy_count * 100, 2) if total_atopy_count > 0 else 0\n",
    "paternal_asthma_ratio = round(paternal_asthma_count / total_atopy_count * 100, 2) if total_atopy_count > 0 else 0\n",
    "paternal_rhinitis_ratio = round(paternal_rhinitis_count / total_atopy_count * 100, 2) if total_atopy_count > 0 else 0\n",
    "paternal_eczema_ratio = round(paternal_eczema_count / total_atopy_count * 100, 2) if total_atopy_count > 0 else 0\n",
    "\n",
    "print(f\"Maternal atopy: {maternal_atopy_count} ({maternal_atopy_ratio:.2f}%)\")\n",
    "print(f\"Maternal asthma: {maternal_asthma_count} ({maternal_asthma_ratio:.2f}%)\")\n",
    "print(f\"Maternal rhinitis: {maternal_rhinitis_count} ({maternal_rhinitis_ratio:.2f}%)\")\n",
    "print(f\"Maternal eczema: {maternal_eczema_count} ({maternal_eczema_ratio:.2f}%)\")\n",
    "print(f\"Paternal atopy: {paternal_atopy_count} ({paternal_atopy_ratio:.2f}%)\")\n",
    "print(f\"Paternal asthma: {paternal_asthma_count} ({paternal_asthma_ratio:.2f}%)\")\n",
    "print(f\"Paternal rhinitis: {paternal_rhinitis_count} ({paternal_rhinitis_ratio:.2f}%)\")\n",
    "print(f\"Paternal eczema: {paternal_eczema_count} ({paternal_eczema_ratio:.2f}%)\")"
   ]
  },
  {
   "cell_type": "code",
   "execution_count": 31,
   "metadata": {},
   "outputs": [
    {
     "name": "stdout",
     "output_type": "stream",
     "text": [
      "Total IgE: 128.9 ± 304.6, min: 2.2, max: 3605.0\n",
      "D. pteronyssinus: 3.8 ± 10.4, min: 0.0, max: 69.3\n",
      "D. farinae: 3.2 ± 8.2, min: 0.0, max: 63.1\n",
      "Egg white: 0.1 ± 0.1, min: 0.0, max: 0.8\n",
      "Milk: 0.0 ± 0.1, min: 0.0, max: 0.4\n"
     ]
    }
   ],
   "source": [
    "import pandas as pd\n",
    "ige = pd.read_csv(\"upload_csv/Mother_IgE.csv\")\n",
    "ige_columns_to_calculate = ['Total IgE', 'D. pteronyssinus', 'D. farinae', 'Egg white', 'Milk']\n",
    "\n",
    "# Convert columns to float if they are strings\n",
    "for column in ige_columns_to_calculate:\n",
    "    if column in ige.columns:\n",
    "        ige[column] = pd.to_numeric(ige[column], errors='coerce')\n",
    "\n",
    "for column in ige_columns_to_calculate:\n",
    "    if column in ige.columns:\n",
    "        mean = ige[column].mean()\n",
    "        std = ige[column].std()\n",
    "        min_value = ige[column].min()\n",
    "        max_value = ige[column].max()\n",
    "        print(f\"{column}: {mean:.1f} ± {std:.1f}, min: {min_value:.1f}, max: {max_value:.1f}\")\n"
   ]
  },
  {
   "cell_type": "code",
   "execution_count": 32,
   "metadata": {},
   "outputs": [
    {
     "name": "stdout",
     "output_type": "stream",
     "text": [
      "6M_AD: 27 (18.75%)\n",
      "6M_AR: 13 (9.03%)\n",
      "6M_Asthma: 6 (4.17%)\n",
      "1Y_AD: 19 (13.19%)\n",
      "1Y_AR: 13 (9.03%)\n",
      "1Y_Asthma: 18 (12.5%)\n",
      "3Y_AD: 20 (13.89%)\n",
      "3Y_AR: 66 (45.83%)\n",
      "3Y_Asthma: 28 (19.44%)\n",
      "5Y_AD: 20 (13.89%)\n",
      "5Y_AR: 79 (54.86%)\n",
      "5Y_Asthma: 30 (20.83%)\n"
     ]
    }
   ],
   "source": [
    "import pandas as pd\n",
    "df = pd.read_csv(\"upload_csv/Atopic Diseases_6m-5Y.csv\")\n",
    "\n",
    "# Select the columns of interest\n",
    "columns_of_interest_atopic = [\n",
    "    '6M_AD', '6M_AR', '6M_Asthma',\n",
    "    '1Y_AD', '1Y_AR', '1Y_Asthma',\n",
    "    '3Y_AD', '3Y_AR', '3Y_Asthma',\n",
    "    '5Y_AD', '5Y_AR', '5Y_Asthma'\n",
    "]\n",
    "\n",
    "# Calculate counts and ratios for the selected columns\n",
    "atopic_counts = {col: df[col].sum() for col in columns_of_interest_atopic}\n",
    "total_atopic_count = len(df)\n",
    "\n",
    "# Calculate ratios\n",
    "atopic_ratios = {col: round(count / total_atopic_count * 100, 2) if total_atopic_count > 0 else 0 for col, count in atopic_counts.items()}\n",
    "\n",
    "# Print results for atopic data\n",
    "for col in columns_of_interest_atopic:\n",
    "    print(f\"{col}: {int(atopic_counts[col])} ({atopic_ratios[col]}%)\")"
   ]
  }
 ],
 "metadata": {
  "kernelspec": {
   "display_name": "Python 3",
   "language": "python",
   "name": "python3"
  },
  "language_info": {
   "codemirror_mode": {
    "name": "ipython",
    "version": 3
   },
   "file_extension": ".py",
   "mimetype": "text/x-python",
   "name": "python",
   "nbconvert_exporter": "python",
   "pygments_lexer": "ipython3",
   "version": "3.9.12"
  }
 },
 "nbformat": 4,
 "nbformat_minor": 2
}
